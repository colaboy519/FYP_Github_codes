{
 "cells": [
  {
   "cell_type": "markdown",
   "metadata": {},
   "source": [
    "## Main code for cavity state-to-state transfer pulse optimization\n",
    "test: $\\ket{0}$ to $\\ket{\\alpha}$    "
   ]
  },
  {
   "cell_type": "code",
   "execution_count": 1,
   "metadata": {},
   "outputs": [],
   "source": [
    "%matplotlib inline\n",
    "import numpy as np\n",
    "import matplotlib.pyplot as plt\n",
    "import datetime"
   ]
  },
  {
   "cell_type": "code",
   "execution_count": 2,
   "metadata": {},
   "outputs": [],
   "source": [
    "from qutip import Qobj, identity, sigmax, sigmaz, tensor\n",
    "import qutip as qt\n",
    "import random\n",
    "import qutip.logging_utils as logging\n",
    "logger = logging.get_logger()\n",
    "#Set this to None or logging.WARN for 'quiet' execution\n",
    "log_level = logging.INFO\n",
    "#QuTiP control modules\n",
    "import qutip.control.pulseoptim as cpo\n",
    "import qutip.control.pulsegen as pulsegen\n",
    "from qutip import *\n",
    "\n",
    "### helper functions ###\n",
    "def time (n_ts,evo_time):\n",
    "    return np.linspace(0,evo_time,n_ts)"
   ]
  },
  {
   "cell_type": "markdown",
   "metadata": {},
   "source": [
    "### Defining the physics\n",
    "Drift Hamiltonian:  \n",
    "From phD thesis (2.13)  \n",
    "(before frame rotation)\n",
    "$$\n",
    "H_0 = \\omega_q a^\\dagger a + \\frac{\\omega_z}{2} \\sigma_z\n",
    "$$\n",
    "$H_0$ can be rotated away,\n",
    "$$\n",
    "H_{d1} = \\frac{\\chi}{2} a^\\dagger a \\sigma_z\n",
    "$$\n",
    "It can be shown that it's equivalent to:  \n",
    "$$\n",
    "\\begin{align*}\n",
    "    H_{d2} &= g\\left( \\hat{\\sigma}_+ \\hat{\\sigma}_- + \\hat{a}^{\\dagger}\\hat{a}\\hat{\\sigma}_z \\right) \\\\\n",
    "    &= g \\left( \\frac{1}{2}(1+\\hat{\\sigma}_x) + \\hat{n}\\hat{\\sigma}_z\\right)\n",
    "\\end{align*}\n",
    "$$  \n",
    "where, $g$ is the cavity-qubit coupling strength\n",
    "\n",
    "Contrl Hamiltonian: \n",
    "$$\n",
    "H_{c1} = \\epsilon_c(t) \\hat{a} + \\epsilon_T(t) \\hat{\\sigma}_- + h.c.\n",
    "$$\n",
    "\n",
    "where, \n",
    "- $\\epsilon_c(t)$ is the contorl signal to cavity\n",
    "- $\\epsilon_T(t)$ is the control signal to ancilliary qubit\n",
    "\n",
    "with $\\hat{\\sigma}_- = \\frac{1}{2} \\hat{\\sigma}_x - \\frac{i}{2}\\hat{\\sigma}_y$, \n",
    "$$\n",
    "H_{c2} = \\epsilon_c(t) \\hat{a} + \\epsilon_T(t) (\\frac{1}{2} \\hat{\\sigma}_x - \\frac{i}{2}\\hat{\\sigma}_y) + h.c.\n",
    "$$\n",
    "Assuming that the control signals $\\epsilon_c(t), \\epsilon_T(t)$ are real, and ignoring scalar constants, we have \n",
    "$$\n",
    "H_{c3} = \\epsilon_c(t) (\\hat{a}+\\hat{a}^{\\dagger}) + \\epsilon_T(t) \\hat{\\sigma}_x\n",
    "$$\n",
    "\n",
    "If NOT assuming that the control signals are real, and ignoring the coupling term, we have \n",
    "\n",
    "\\begin{align}\n",
    "H_{c4} \n",
    "&= \\epsilon_c(t) \\hat{a}^{\\dagger} + \\epsilon_c^*(t) \\hat{a} \\\\\n",
    "&= \\epsilon_{c1}(t) (\\hat{a}^{\\dagger}+\\hat{a}) + i\\epsilon_{c2}(t) (\\hat{a}^{\\dagger}-\\hat{a}) \\quad \\text{where, }\\epsilon_{c1}(t),\\epsilon_{c2}(t) \\in \\mathbb{R}\n",
    "\\end{align}\n",
    "\n",
    "$\\epsilon(t) = \\epsilon_{c1}(t)+ i\\epsilon_{c2}(t)$, $\\epsilon(t)$ is the AC control signal.\n",
    "\n",
    "\n",
    "Initial and target states: \n",
    "$$\n",
    "\\begin{align*}\n",
    "    \\ket{\\psi_{\\text{initial}}} &= \\ket{\\alpha} \\\\\n",
    "    \\ket{\\psi_{\\text{final}}} &= \\ket{\\alpha} + \\ket{-\\alpha}\n",
    "\\end{align*}\n",
    "$$\n",
    "\n",
    "For testing the code, consider\n",
    "$$\n",
    "\\begin{align*}\n",
    "    \\ket{\\psi_{\\text{initial}}} &= \\ket{0} \\\\\n",
    "    \\ket{\\psi_{\\text{final}}} &= \\ket{\\alpha}\n",
    "\\end{align*}\n",
    "$$\n"
   ]
  },
  {
   "cell_type": "code",
   "execution_count": 3,
   "metadata": {},
   "outputs": [],
   "source": [
    "g = 10**(-3) # cavity qubit coupling strength\n",
    "N = 5 # Fock space truncation\n",
    "\n",
    "#### actual goal ####\n",
    "# H_0 + H_d1\n",
    "# H_d = tensor(qt.num(N), identity(2)) + tensor(identity(N), sigmaz()) + tensor(qt.num(N), sigmaz())\n",
    "\n",
    "\n",
    "# H_d2 = g*((tensor(identity(N), identity(2)) + tensor(identity(N), sigmax()))/2 + \n",
    "#          tensor(qt.num(N), sigmaz())) # drift Hamiltonian (in composite Hilbert space)\n",
    "\n",
    "# H_c = [tensor(qt.destroy(N)+qt.create(N), identity(2)), \n",
    "#        tensor(identity(N), qt.sigmax())] # two control Hamiltonians (in composite Hilbert space)\n",
    "\n",
    "#### testing ####\n",
    "# set chi to 0, don't need this for testing state-to-state transfer\n",
    "H_dt = tensor(qt.num(N), identity(2)) + tensor(identity(N), sigmaz())\n",
    "H_c4 = [tensor(qt.destroy(N) + qt.create(N), identity(2)),\n",
    "       tensor(1j*(qt.destroy(N) - qt.create(N)), identity(2))]\n",
    "\n",
    "\n",
    "#### set Hamiltonian ####\n",
    "H_d = H_dt\n",
    "H_c = H_c4\n",
    "n_ctrls = len(H_c)\n",
    "\n",
    "H_labels = [r'$u_c1$',\n",
    "            r'$u_c2$'] # two control Hamiltonian labels\n",
    "\n",
    "#### initial and target states ####\n",
    "# coherent state complex amplitude\n",
    "# alpha = np.sqrt(2) \n",
    "alpha = 0.5\n",
    "# try root 2\n",
    "cavity_init_state = qt.coherent(N, alpha)\n",
    "cavity_target_state = (qt.coherent(N, alpha) + qt.coherent(N, -alpha)).unit()\n",
    "\n",
    "#### testing ####\n",
    "# vacuum state to coherent state \n",
    "cavity_init_state_testing = qt.coherent(N, 0)\n",
    "cavity_target_state_testing = qt.coherent(N, alpha)\n",
    "\n",
    "qubit_state = Qobj([[1], [0]])\n",
    "\n",
    "psi_0 = tensor(cavity_init_state_testing, qubit_state)\n",
    "psi_targ = tensor(cavity_target_state_testing, qubit_state)"
   ]
  },
  {
   "cell_type": "markdown",
   "metadata": {},
   "source": [
    "### Defining the time evolution parameters"
   ]
  },
  {
   "cell_type": "code",
   "execution_count": 4,
   "metadata": {},
   "outputs": [],
   "source": [
    "# Number of time slots\n",
    "# n_ts = 3_000\n",
    "n_ts = 100\n",
    "# Time allowed for the evolution \n",
    "evo_time = 1"
   ]
  },
  {
   "cell_type": "markdown",
   "metadata": {},
   "source": [
    "### Set the conditions which will cause the pulse optimisation to terminate"
   ]
  },
  {
   "cell_type": "markdown",
   "metadata": {},
   "source": [
    "At each iteration the fidelity of the evolution is tested by comparaing the calculated evolution U(T) with the target U_targ. For unitary systems such as this one this is typically:\n",
    "f = normalise(overlap(U(T), U_targ)). The maximum fidelity (for a unitary system) calculated this way would be 1, and hence the error is calculated as fid_err = 1 - fidelity. As such the optimisation is considered completed when the fid_err falls below such a target value.\n",
    "\n",
    "In some cases the optimisation either gets stuck in some local minima, or the fid_err_targ is just not achievable, therefore some limits are set to the time/effort allowed to find a solution.\n",
    "\n",
    "The algorithm uses the CRAB algorithm to determine optimized coefficients that lead to a minimal fidelity error. The underlying optimization procedure is set to be the Nelder-Mead downhill simplex. Therefore, when all vertices shrink together, the algorithm will terminate."
   ]
  },
  {
   "cell_type": "code",
   "execution_count": 5,
   "metadata": {},
   "outputs": [],
   "source": [
    "# Fidelity error target\n",
    "fid_err_targ = 1e-4\n",
    "# Maximum iterations for the optisation algorithm\n",
    "max_iter = 100_000\n",
    "# Maximum (elapsed) time allowed in seconds\n",
    "max_wall_time = 10_000"
   ]
  },
  {
   "cell_type": "markdown",
   "metadata": {},
   "source": [
    "### Set the guess pulse type"
   ]
  },
  {
   "cell_type": "markdown",
   "metadata": {},
   "source": [
    "The control amplitudes must be set to some initial values. Typically these are just random values for each control in each timeslot. These do however result in erratic optimised pulses. For this example, a solution will be found for any initial pulse, and so it can be interesting to look at the other initial pulse alternatives."
   ]
  },
  {
   "cell_type": "code",
   "execution_count": 6,
   "metadata": {},
   "outputs": [],
   "source": [
    "# pulse type alternatives: RND|ZERO|LIN|SINE|SQUARE|SAW|TRIANGLE|DEF\n",
    "p_type = 'LIN'"
   ]
  },
  {
   "cell_type": "markdown",
   "metadata": {},
   "source": [
    "### Give an extension for output files"
   ]
  },
  {
   "cell_type": "code",
   "execution_count": 7,
   "metadata": {},
   "outputs": [],
   "source": [
    "# Set to None to suppress output files\n",
    "code_name = 'coherent_to_cat_state'\n",
    "f_ext = \"{}_n_ts{}_evo_time{}_ptype{}_alpha{}_N{}_fid_err_targ{}_max_iter{}_max_wall_time{}.txt\".format(code_name, n_ts, evo_time, p_type, alpha, N, fid_err_targ, max_iter, max_wall_time)\n",
    "# f_ext = None"
   ]
  },
  {
   "cell_type": "markdown",
   "metadata": {},
   "source": [
    "### Run the optimisation (Auto)"
   ]
  },
  {
   "cell_type": "markdown",
   "metadata": {},
   "source": [
    "In this step, the actual optimization is performed. At each iteration the Nelder-Mead algorithm calculates a new set of coefficients that improves the currently worst set among all set of coefficients. For details see [1,2] and a textbook about static search methods. The algorithm continues until one of the termination conditions defined above has been reached. If undesired results are achieved, rerun the algorithm and/or try to change the number of coefficients to be optimized for, as this is a very crucial parameter."
   ]
  },
  {
   "cell_type": "code",
   "execution_count": 8,
   "metadata": {},
   "outputs": [
    {
     "name": "stderr",
     "output_type": "stream",
     "text": [
      "INFO:qutip.control.dynamics:Setting memory optimisations for level 0\n",
      "INFO:qutip.control.dynamics:Internal operator data type choosen to be <class 'numpy.ndarray'>\n",
      "INFO:qutip.control.dynamics:phased dynamics generator caching True\n",
      "INFO:qutip.control.dynamics:propagator gradient caching True\n",
      "INFO:qutip.control.dynamics:eigenvector adjoint caching True\n",
      "INFO:qutip.control.dynamics:use sparse eigen decomp False\n",
      "INFO:qutip.control.pulseoptim:System configuration:\n",
      "Drift Hamiltonian:\n",
      "Quantum object: dims = [[5, 2], [5, 2]], shape = (10, 10), type = oper, isherm = True\n",
      "Qobj data =\n",
      "[[ 1.  0.  0.  0.  0.  0.  0.  0.  0.  0.]\n",
      " [ 0. -1.  0.  0.  0.  0.  0.  0.  0.  0.]\n",
      " [ 0.  0.  2.  0.  0.  0.  0.  0.  0.  0.]\n",
      " [ 0.  0.  0.  0.  0.  0.  0.  0.  0.  0.]\n",
      " [ 0.  0.  0.  0.  3.  0.  0.  0.  0.  0.]\n",
      " [ 0.  0.  0.  0.  0.  1.  0.  0.  0.  0.]\n",
      " [ 0.  0.  0.  0.  0.  0.  4.  0.  0.  0.]\n",
      " [ 0.  0.  0.  0.  0.  0.  0.  2.  0.  0.]\n",
      " [ 0.  0.  0.  0.  0.  0.  0.  0.  5.  0.]\n",
      " [ 0.  0.  0.  0.  0.  0.  0.  0.  0.  3.]]\n",
      "Control 1 Hamiltonian:\n",
      "Quantum object: dims = [[5, 2], [5, 2]], shape = (10, 10), type = oper, isherm = True\n",
      "Qobj data =\n",
      "[[0.         0.         1.         0.         0.         0.\n",
      "  0.         0.         0.         0.        ]\n",
      " [0.         0.         0.         1.         0.         0.\n",
      "  0.         0.         0.         0.        ]\n",
      " [1.         0.         0.         0.         1.41421356 0.\n",
      "  0.         0.         0.         0.        ]\n",
      " [0.         1.         0.         0.         0.         1.41421356\n",
      "  0.         0.         0.         0.        ]\n",
      " [0.         0.         1.41421356 0.         0.         0.\n",
      "  1.73205081 0.         0.         0.        ]\n",
      " [0.         0.         0.         1.41421356 0.         0.\n",
      "  0.         1.73205081 0.         0.        ]\n",
      " [0.         0.         0.         0.         1.73205081 0.\n",
      "  0.         0.         2.         0.        ]\n",
      " [0.         0.         0.         0.         0.         1.73205081\n",
      "  0.         0.         0.         2.        ]\n",
      " [0.         0.         0.         0.         0.         0.\n",
      "  2.         0.         0.         0.        ]\n",
      " [0.         0.         0.         0.         0.         0.\n",
      "  0.         2.         0.         0.        ]]\n",
      "Control 2 Hamiltonian:\n",
      "Quantum object: dims = [[5, 2], [5, 2]], shape = (10, 10), type = oper, isherm = True\n",
      "Qobj data =\n",
      "[[0.+0.j         0.+0.j         0.+1.j         0.+0.j\n",
      "  0.+0.j         0.+0.j         0.+0.j         0.+0.j\n",
      "  0.+0.j         0.+0.j        ]\n",
      " [0.+0.j         0.+0.j         0.+0.j         0.+1.j\n",
      "  0.+0.j         0.+0.j         0.+0.j         0.+0.j\n",
      "  0.+0.j         0.+0.j        ]\n",
      " [0.-1.j         0.+0.j         0.+0.j         0.+0.j\n",
      "  0.+1.41421356j 0.+0.j         0.+0.j         0.+0.j\n",
      "  0.+0.j         0.+0.j        ]\n",
      " [0.+0.j         0.-1.j         0.+0.j         0.+0.j\n",
      "  0.+0.j         0.+1.41421356j 0.+0.j         0.+0.j\n",
      "  0.+0.j         0.+0.j        ]\n",
      " [0.+0.j         0.+0.j         0.-1.41421356j 0.+0.j\n",
      "  0.+0.j         0.+0.j         0.+1.73205081j 0.+0.j\n",
      "  0.+0.j         0.+0.j        ]\n",
      " [0.+0.j         0.+0.j         0.+0.j         0.-1.41421356j\n",
      "  0.+0.j         0.+0.j         0.+0.j         0.+1.73205081j\n",
      "  0.+0.j         0.+0.j        ]\n",
      " [0.+0.j         0.+0.j         0.+0.j         0.+0.j\n",
      "  0.-1.73205081j 0.+0.j         0.+0.j         0.+0.j\n",
      "  0.+2.j         0.+0.j        ]\n",
      " [0.+0.j         0.+0.j         0.+0.j         0.+0.j\n",
      "  0.+0.j         0.-1.73205081j 0.+0.j         0.+0.j\n",
      "  0.+0.j         0.+2.j        ]\n",
      " [0.+0.j         0.+0.j         0.+0.j         0.+0.j\n",
      "  0.+0.j         0.+0.j         0.-2.j         0.+0.j\n",
      "  0.+0.j         0.+0.j        ]\n",
      " [0.+0.j         0.+0.j         0.+0.j         0.+0.j\n",
      "  0.+0.j         0.+0.j         0.+0.j         0.-2.j\n",
      "  0.+0.j         0.+0.j        ]]\n",
      "Initial state / operator:\n",
      "Quantum object: dims = [[5, 2], [1, 1]], shape = (10, 1), type = ket\n",
      "Qobj data =\n",
      "[[1.]\n",
      " [0.]\n",
      " [0.]\n",
      " [0.]\n",
      " [0.]\n",
      " [0.]\n",
      " [0.]\n",
      " [0.]\n",
      " [0.]\n",
      " [0.]]\n",
      "Target state / operator:\n",
      "Quantum object: dims = [[5, 2], [1, 1]], shape = (10, 1), type = ket\n",
      "Qobj data =\n",
      "[[0.88249693]\n",
      " [0.        ]\n",
      " [0.44124785]\n",
      " [0.        ]\n",
      " [0.15601245]\n",
      " [0.        ]\n",
      " [0.04496584]\n",
      " [0.        ]\n",
      " [0.01173405]\n",
      " [0.        ]]\n",
      "INFO:qutip.control.pulseoptim:Initial amplitudes output to file: ctrl_amps_initial_coherent_to_cat_state_n_ts100_evo_time1_ptypeLIN_alpha0.5_N5_fid_err_targ0.0001_max_iter100000_max_wall_time10000.txt\n",
      "INFO:qutip.control.optimizer:Optimising pulse(s) using GRAPE with 'fmin_l_bfgs_b' method\n",
      "INFO:qutip.control.pulseoptim:Final amplitudes output to file: ctrl_amps_final_coherent_to_cat_state_n_ts100_evo_time1_ptypeLIN_alpha0.5_N5_fid_err_targ0.0001_max_iter100000_max_wall_time10000.txt\n"
     ]
    }
   ],
   "source": [
    "######## CRAB ########\n",
    "# result = cpo.opt_pulse_crab_unitary(H_d, H_c, psi_0, psi_targ, n_ts, evo_time, \n",
    "#                 fid_err_targ=fid_err_targ, \n",
    "#                 max_iter=max_iter, max_wall_time=max_wall_time, \n",
    "#                 init_coeff_scaling=5.0, num_coeffs=10, \n",
    "#                 method_params={'xtol':1e-3},\n",
    "#                 guess_pulse_type=p_type, guess_pulse_action='ADD',\n",
    "#                 out_file_ext=f_ext,\n",
    "#                 log_level=log_level, gen_stats=True)\n",
    "\n",
    "# figure out how to print current fidelity at each optimization itteration\n",
    "# should move up quickly in 20 iterations\n",
    "# to see that it's climbing rapidly in the start\n",
    "\n",
    "######## GRAPE ########\n",
    "result = cpo.optimize_pulse_unitary(H_d, H_c, psi_0, psi_targ, n_ts, evo_time, \n",
    "                fid_err_targ=fid_err_targ, \n",
    "                max_iter=max_iter, max_wall_time=max_wall_time, \n",
    "                method_params={'xtol':1e-3},\n",
    "                init_pulse_type=p_type,\n",
    "                out_file_ext=f_ext,\n",
    "                log_level=log_level, gen_stats=True)"
   ]
  },
  {
   "cell_type": "markdown",
   "metadata": {},
   "source": [
    "### Run optimization (semi-auto, CRAB)\n",
    "refer to sample code: \n",
    "/Users/JohnnyLin/Library/CloudStorage/OneDrive-NationalUniversityofSingapore/Desktop/NUS/Y4S1DT/FYP-DT/FYP-sample_code/control-pulseoptim-CRAB-QFT.ipynb"
   ]
  },
  {
   "cell_type": "code",
   "execution_count": 9,
   "metadata": {},
   "outputs": [],
   "source": [
    "# Create optimizer object and optimize\n",
    "# from source code: \n",
    "# create_pulse_optimizer(\n",
    "#         drift, ctrls, initial, target,\n",
    "#         num_tslots=None, evo_time=None, tau=None,\n",
    "#         amp_lbound=None, amp_ubound=None,\n",
    "#         fid_err_targ=1e-10, min_grad=1e-10,\n",
    "#         max_iter=500, max_wall_time=180,\n",
    "#         alg='GRAPE', alg_params=None,\n",
    "#         optim_params=None, optim_method='DEF', method_params=None,\n",
    "#         optim_alg=None, max_metric_corr=None, accuracy_factor=None,\n",
    "#         dyn_type='GEN_MAT', dyn_params=None,\n",
    "#         prop_type='DEF', prop_params=None,\n",
    "#         fid_type='DEF', fid_params=None,\n",
    "#         phase_option=None, fid_err_scale_factor=None,\n",
    "#         tslot_type='DEF', tslot_params=None,\n",
    "#         amp_update_mode=None,\n",
    "#         init_pulse_type='DEF', init_pulse_params=None,\n",
    "#         pulse_scaling=1.0, pulse_offset=0.0,\n",
    "#         ramping_pulse_type=None, ramping_pulse_params=None,\n",
    "#         log_level=logging.NOTSET, gen_stats=False)\n",
    "optim = cpo.create_pulse_optimizer(\n",
    "                H_d, H_c, psi_0, psi_targ, n_ts, evo_time, \n",
    "                fid_err_targ=fid_err_targ, \n",
    "                max_iter=max_iter, max_wall_time=max_wall_time,\n",
    "                # alg='CRAB', \n",
    "                # alg='CRAB', \n",
    "                # init_pulse_type='SQUARE',\n",
    "                # init_pulse_params={'scaling':1.0,'num_waves':1},\n",
    "                # alg_params={},\n",
    "                dyn_type='UNIT', \n",
    "                prop_type='DIAG', \n",
    "                fid_type='UNIT', fid_params={'phase_option':'PSU'}, \n",
    "                log_level=log_level, gen_stats=True)\n"
   ]
  },
  {
   "cell_type": "markdown",
   "metadata": {},
   "source": [
    "### Configure the pulses for each of the controls"
   ]
  },
  {
   "cell_type": "code",
   "execution_count": 10,
   "metadata": {},
   "outputs": [],
   "source": [
    "# dyn = optim.dynamics\n",
    "\n",
    "# # Control 1\n",
    "# crab_pgen = optim.pulse_generator\n",
    "# guess_pgen = pulsegen.create_pulse_gen('SQUARE', dyn=dyn, \n",
    "#                                            pulse_params={'scaling':3.0,'num_waves':1})\n",
    "# crab_pgen.guess_pulse = guess_pgen.gen_pulse()\n",
    "# crab_pgen.scaling = 0.0\n",
    "# # Add some higher frequency components\n",
    "# crab_pgen.num_coeffs = 100\n",
    "\n",
    "# # Control 2\n",
    "# crab_pgen = optim.pulse_generator\n",
    "# guess_pgen = pulsegen.create_pulse_gen('SQUARE', dyn=dyn, \n",
    "#                                            pulse_params={'scaling':3.0,'num_waves':1})\n",
    "# crab_pgen.guess_pulse = guess_pgen.gen_pulse()\n",
    "# crab_pgen.scaling = 0.0\n",
    "# # Add some higher frequency components\n",
    "# crab_pgen.num_coeffs = 100\n",
    "\n",
    "\n",
    "# init_amps = np.zeros([n_ts, n_ctrls])\n",
    "# # for j in range(dyn.num_ctrls):\n",
    "# #     pgen = optim.pulse_generator[j]\n",
    "# #     pgen.init_pulse()\n",
    "# #     init_amps[:, j] = pgen.gen_pulse()\n",
    "\n",
    "# dyn.initialize_controls(init_amps)"
   ]
  },
  {
   "cell_type": "code",
   "execution_count": 11,
   "metadata": {},
   "outputs": [],
   "source": [
    "# ## test generating and plotting pulses ##\n",
    "# test_pulse_gen = pulsegen.create_pulse_gen('SQUARE', dyn=dyn, pulse_params={'scaling':1.0})\n",
    "# # set periodic parameters\n",
    "# test_pulse_gen.num_waves = 2\n",
    "\n",
    "# test_pulse = test_pulse_gen.gen_pulse()\n",
    "# fig1 = plt.figure()\n",
    "# ax1 = fig1.add_subplot(3, 1, 1)\n",
    "# ax1.set_title(\"amps\")\n",
    "# ax1.set_xlabel(\"Time\")\n",
    "# ax1.set_ylabel(\"amplitude\")\n",
    "# time_array = time(n_ts, evo_time)\n",
    "# pulse = test_pulse\n",
    "# ax1.step(np.append(time_array,time_array[-1] + evo_time/n_ts),\n",
    "#     np.hstack((pulse, pulse[-1])),\n",
    "#     where = 'post')\n",
    "\n",
    "# init_amps = np.zeros([n_ts, n_ctrls])\n",
    "# for j in range(dyn.num_ctrls):\n",
    "#     pgen = optim.pulse_generator[j]\n",
    "#     pgen.init_pulse()\n",
    "#     init_amps[:, j] = pgen.gen_pulse()\n",
    "    \n",
    "#     fig1 = plt.figure()\n",
    "#     ax1.set_title(f\"{j+1}th control initial amps\")\n",
    "#     ax1.set_xlabel(\"Time\")\n",
    "#     ax1.set_ylabel(f\"{j+1}th control amplitude\")\n",
    "#     # ax1.plot(time(n_ts, evo_time),init_amps[:, j])\n",
    "#     # ax1.step(time(n_ts, evo_time),\n",
    "#     #     init_amps[:, j],\n",
    "#     #     where = 'post')\n",
    "#     time_array = time(n_ts, evo_time)\n",
    "#     ax1.step(np.append(time_array,time_array[-1] + evo_time/n_ts),\n",
    "#         np.hstack((init_amps[:, j], init_amps[-1, j])),\n",
    "#         where = 'post')\n",
    "\n",
    "# plt.show"
   ]
  },
  {
   "cell_type": "code",
   "execution_count": 12,
   "metadata": {},
   "outputs": [],
   "source": [
    "# # Run the pulse optimisation (semi-auto)\n",
    "# if f_ext is not None:\n",
    "#     pulsefile = \"ctrl_amps_initial_\" + f_ext\n",
    "#     dyn.save_amps(pulsefile)\n",
    "#     print(\"Initial amplitudes output to file: \" + pulsefile)\n",
    "\n",
    "# print(\"***********************************\")\n",
    "# print(\"Starting pulse optimisation\")\n",
    "# result = optim.run_optimization()"
   ]
  },
  {
   "cell_type": "code",
   "execution_count": 13,
   "metadata": {},
   "outputs": [],
   "source": [
    "# # Save final amplitudes to a text file\n",
    "# if f_ext is not None:\n",
    "#     pulsefile = \"ctrl_amps_final_\" + f_ext\n",
    "#     dyn.save_amps(pulsefile)\n",
    "#     print(\"Final amplitudes output to file: \" + pulsefile)"
   ]
  },
  {
   "cell_type": "markdown",
   "metadata": {},
   "source": [
    "### Report the results"
   ]
  },
  {
   "cell_type": "markdown",
   "metadata": {},
   "source": [
    "Firstly the performace statistics are reported, which gives a breakdown of the processing times. In this example it can be seen that the majority of time is spent calculating the propagators, i.e. exponentiating the combined Hamiltonian.\n",
    "\n",
    "The optimised U(T) is reported as the 'final evolution', which is essentially the string representation of the Qobj that holds the full time evolution at the point when the optimisation is terminated.\n",
    "\n",
    "The key information is in the summary (given last). Here the final fidelity is reported and the reason for termination of the algorithm."
   ]
  },
  {
   "cell_type": "code",
   "execution_count": 14,
   "metadata": {},
   "outputs": [
    {
     "name": "stdout",
     "output_type": "stream",
     "text": [
      "\n",
      "------------------------------------\n",
      "---- Control optimisation stats ----\n",
      "**** Timings (HH:MM:SS.US) ****\n",
      "Total wall time elapsed during optimisation: 0:00:00.062684\n",
      "Wall time computing Hamiltonians: 0:00:00.003454 (5.51%)\n",
      "Wall time computing propagators: 0:00:00.040052 (63.90%)\n",
      "Wall time computing forward propagation: 0:00:00.000231 (0.37%)\n",
      "Wall time computing onward propagation: 0:00:00.000192 (0.31%)\n",
      "Wall time computing gradient: 0:00:00.004524 (7.22%)\n",
      "\n",
      "**** Iterations and function calls ****\n",
      "Number of iterations: 2\n",
      "Number of fidelity function calls: 4\n",
      "Number of times fidelity is computed: 4\n",
      "Number of gradient function calls: 3\n",
      "Number of times gradients are computed: 3\n",
      "Number of times timeslot evolution is recomputed: 4\n",
      "\n",
      "**** Control amplitudes ****\n",
      "Number of control amplitude updates: 3\n",
      "Mean number of updates per iteration: 1.5\n",
      "Number of timeslot values changed: 300\n",
      "Mean number of timeslot changes per update: 100.0\n",
      "Number of amplitude values changed: 600\n",
      "Mean number of amplitude changes per update: 200.0\n",
      "------------------------------------\n",
      "Final evolution\n",
      "Quantum object: dims = [[5, 2], [1, 1]], shape = (10, 1), type = ket\n",
      "Qobj data =\n",
      "[[ 4.62195869e-01-7.54463008e-01j]\n",
      " [ 7.83256307e-16-5.42807196e-16j]\n",
      " [ 2.26671235e-01-3.74540532e-01j]\n",
      " [-3.12354562e-16+1.65954236e-16j]\n",
      " [ 7.86042711e-02-1.31475261e-01j]\n",
      " [-1.04800572e-16-2.50870118e-16j]\n",
      " [ 2.22413176e-02-3.76732201e-02j]\n",
      " [-9.18820539e-18-1.42060581e-17j]\n",
      " [ 6.20825292e-03-9.12269873e-03j]\n",
      " [-7.00074204e-17-7.24774846e-17j]]\n",
      "\n",
      "********* Summary *****************\n",
      "Final fidelity error 1.733066546660833e-05\n",
      "Final gradient normal 0.01024511375001918\n",
      "Terminated due to Goal achieved\n",
      "Number of iterations 2\n",
      "Completed in 0:00:00.062684 HH:MM:SS.US\n"
     ]
    }
   ],
   "source": [
    "######## CRAB ########\n",
    "result.stats.report()\n",
    "print(\"Final evolution\\n{}\\n\".format(result.evo_full_final))\n",
    "print(\"********* Summary *****************\")\n",
    "print(\"Final fidelity error {}\".format(result.fid_err))\n",
    "print(\"Final gradient normal {}\".format(result.grad_norm_final))\n",
    "print(\"Terminated due to {}\".format(result.termination_reason))\n",
    "print(\"Number of iterations {}\".format(result.num_iter))\n",
    "print(\"Completed in {} HH:MM:SS.US\".format(\n",
    "        datetime.timedelta(seconds=result.wall_time)))\n",
    "\n",
    "\n",
    "######## GRAPE ########\n",
    "# result.stats.report()\n",
    "# print(\"Final evolution\\n{}\\n\".format(result.evo_full_final))\n",
    "# print(\"********* Summary *****************\")\n",
    "# print(\"Final fidelity error {}\".format(result.fid_err))\n",
    "# print(\"Final gradient normal {}\".format(result.grad_norm_final))\n",
    "# print(\"Terminated due to {}\".format(result.termination_reason))\n",
    "# print(\"Number of iterations {}\".format(result.num_iter))\n",
    "# print(\"Completed in {} HH:MM:SS.US\".format(\n",
    "#         datetime.timedelta(seconds=result.wall_time)))"
   ]
  },
  {
   "cell_type": "markdown",
   "metadata": {},
   "source": [
    "### Plot the initial and final amplitudes"
   ]
  },
  {
   "cell_type": "markdown",
   "metadata": {},
   "source": [
    "Here the (random) starting pulse is plotted along with the pulse (control amplitudes) that was found to produce the target gate evolution to within the specified error."
   ]
  },
  {
   "cell_type": "code",
   "execution_count": 15,
   "metadata": {},
   "outputs": [
    {
     "data": {
      "image/png": "[encoded data removed]",
      "text/plain": [
       "<Figure size 640x480 with 3 Axes>"
      ]
     },
     "metadata": {},
     "output_type": "display_data"
    },
    {
     "data": {
      "image/png": "[encoded data removed]",
      "text/plain": [
       "<Figure size 640x480 with 3 Axes>"
      ]
     },
     "metadata": {},
     "output_type": "display_data"
    }
   ],
   "source": [
    "fig1 = plt.figure()\n",
    "ax1 = fig1.add_subplot(3, 1, 1)\n",
    "ax1.set_title(\"First control initial amps\")\n",
    "ax1.set_xlabel(\"Time\")\n",
    "ax1.set_ylabel(\"First control amplitude\")\n",
    "ax1.step(result.time, \n",
    "         np.hstack((result.initial_amps[:, 0], result.initial_amps[-1, 0])), \n",
    "         where='post')\n",
    "\n",
    "ax2 = fig1.add_subplot(3, 1, 2)\n",
    "ax2.set_title(\"First control optimized amps\")\n",
    "ax2.set_xlabel(\"Time\")\n",
    "ax2.set_ylabel(\"First control amplitude\")\n",
    "ax2.step(result.time, \n",
    "         np.hstack((result.final_amps[:, 0], result.final_amps[-1, 0])), \n",
    "         where='post')\n",
    "\n",
    "ax3 = fig1.add_subplot(3, 1, 3)\n",
    "ax3.set_title(\"Difference\")\n",
    "ax3.set_xlabel(\"Time\")\n",
    "ax3.set_ylabel(\"Control amplitude\")\n",
    "ax3.step(result.time, \n",
    "         np.hstack((result.final_amps[:, 0], result.final_amps[-1, 0])) - np.hstack((result.initial_amps[:, 0], result.initial_amps[-1, 0])), \n",
    "         where='post')\n",
    "plt.tight_layout()\n",
    "\n",
    "\n",
    "fig2 = plt.figure()\n",
    "ax4 = fig2.add_subplot(3, 1, 1)\n",
    "ax4.set_title(\"Second control initial amps\")\n",
    "ax4.set_ylabel(\"Second control amplitude\")\n",
    "ax4.step(result.time, \n",
    "         np.hstack((result.initial_amps[:, 1], result.initial_amps[-1, 1])), \n",
    "         where='post')\n",
    "\n",
    "ax5 = fig2.add_subplot(3, 1, 2)\n",
    "ax5.set_title(\"Second control ptimised amps\")\n",
    "ax5.set_xlabel(\"Time\")\n",
    "ax5.set_ylabel(\"Second control amplitude\")\n",
    "ax5.step(result.time, \n",
    "         np.hstack((result.final_amps[:, 1], result.final_amps[-1, 1])), \n",
    "         where='post')\n",
    "\n",
    "ax6 = fig2.add_subplot(3, 1, 3)\n",
    "ax6.set_title(\"Difference\")\n",
    "ax6.set_xlabel(\"Time\")\n",
    "ax6.set_ylabel(\"Control amplitude\")\n",
    "ax6.step(result.time, \n",
    "         np.hstack((result.final_amps[:, 1], result.final_amps[-1, 1])) - np.hstack((result.initial_amps[:, 1], result.initial_amps[-1, 1])), \n",
    "         where='post')\n",
    "plt.tight_layout()\n",
    "\n",
    "plt.show()"
   ]
  },
  {
   "cell_type": "markdown",
   "metadata": {},
   "source": [
    "## Now use the optimized pulse (time-dependent Hamiltonian) to simulate time evolution\n",
    "For this case, consider QobjEvo with \"Array dependence\""
   ]
  },
  {
   "cell_type": "markdown",
   "metadata": {},
   "source": [
    "## Simulate evolution with in larger truncation Fock space (testing state preparation)\n",
    "specify: \n",
    "- optimized_N\n",
    "- alpha"
   ]
  },
  {
   "cell_type": "code",
   "execution_count": 16,
   "metadata": {},
   "outputs": [
    {
     "data": {
      "text/plain": [
       "0.99998235969216"
      ]
     },
     "execution_count": 16,
     "metadata": {},
     "output_type": "execute_result"
    }
   ],
   "source": [
    "from qutip import Options\n",
    "\n",
    "# H_c amplitudes (from pulse optimization)\n",
    "amplitudes_c = result.final_amps[:, 0]\n",
    "amplitudes_T = result.final_amps[:, 1]\n",
    "# amplitudes_c = result.initial_amps[:, 0]\n",
    "# amplitudes_T = result.initial_amps[:, 1]\n",
    "\n",
    "tlist = np.linspace(0, evo_time, n_ts)\n",
    "H_array_form = qt.QobjEvo([H_d, [H_c[0], amplitudes_c], [H_c[1], amplitudes_T]], tlist=tlist)\n",
    "\n",
    "# res = qt.mesolve(H_array_form, psi_0, tlist)\n",
    "res = qt.sesolve(H_array_form, psi_0, tlist, options=Options(nsteps=5000))\n",
    "\n",
    "# tau = evo_time / n_ts\n",
    "# for i in range(0, evo_time, tau):\n",
    "#     psi_0.value() * np.exp(-1j * H_d.full() * tau) * np.exp(-1j * H_c[0].full() * tau) * np.exp(-1j * H_c[1].full() * tau)\n",
    "#     print(qt.fidelity())\n",
    "\n",
    "# Now use mesolve() to solve for time evolution using the optimised pulse\n",
    "# res = qt.mesolve(H_array_form, psi_0, tlist, [], [])\n",
    "\n",
    "#### check fidelity ####\n",
    "# see fidelity at the end\n",
    "qt.metrics.fidelity(res.states[-1].unit(), psi_targ.unit())\n",
    "# see fidelity at each time step\n",
    "# for i in range(0, n_ts):\n",
    "#     print(i, qt.metrics.fidelity(res.states[i].unit(), psi_targ.unit()))"
   ]
  },
  {
   "cell_type": "markdown",
   "metadata": {},
   "source": [
    "# Self-implemented simulation"
   ]
  },
  {
   "cell_type": "code",
   "execution_count": 17,
   "metadata": {},
   "outputs": [
    {
     "name": "stdout",
     "output_type": "stream",
     "text": [
      "sesolve final fidelity:  0.99998235969216\n",
      "self-implemented final fidelity:  0.9999649071138246\n"
     ]
    },
    {
     "data": {
      "image/png": "[encoded data removed]",
      "text/plain": [
       "<Figure size 2000x200 with 1 Axes>"
      ]
     },
     "metadata": {},
     "output_type": "display_data"
    }
   ],
   "source": [
    "# H_c amplitudes (from pulse optimization)\n",
    "amplitudes_0 = result.final_amps[:, 0]\n",
    "amplitudes_1 = result.final_amps[:, 1]\n",
    "\n",
    "\n",
    "tlist = np.linspace(0, evo_time, n_ts)\n",
    "H_array_form = qt.QobjEvo([H_d, [H_c[0], amplitudes_c], [H_c[1], amplitudes_T]], tlist=tlist)\n",
    "\n",
    "# res = qt.mesolve(H_array_form, psi_0, tlist)\n",
    "res = sesolve(H_array_form, psi_0, tlist,options=Options(nsteps=5000))\n",
    "\n",
    "\n",
    "fidelities1 = []\n",
    "for i in range(0, n_ts):\n",
    "    fidelities1.append(qutip.metrics.fidelity(res.states[i].unit(), psi_targ.unit()))\n",
    "\n",
    "print(\"sesolve final fidelity: \", fidelities1[-1])\n",
    "\n",
    "\n",
    "### self-implemented forward propagation ###\n",
    "from scipy.linalg import expm\n",
    "\n",
    "psi_init = psi_0.full()\n",
    "psi_end = psi_targ.full()\n",
    "fidelities = []\n",
    "for n in range(len(tlist) - 1):\n",
    "    H = H_d + sum([H_c[i] * result.final_amps[n, i] for i in range(n_ctrls)])\n",
    "    H = H.full()\n",
    "    dt = tlist[n + 1] - tlist[n]\n",
    "    o = expm(-1j * H * dt)\n",
    "    psi_init = np.matmul(o,psi_init)\n",
    "    fid = np.abs(np.matmul(np.transpose(np.conjugate(psi_init)),psi_end))\n",
    "    # \n",
    "    fidelities.append(fid[0])\n",
    "# print(shape(psi_init))\n",
    "\n",
    "print(\"self-implemented final fidelity: \", fidelities[-1][0])\n",
    "\n",
    "\n",
    "### plotting ###\n",
    "# Create a new figure\n",
    "plt.figure(figsize=(20, 2))\n",
    "\n",
    "# Plot fidelities\n",
    "plt.plot(fidelities, label='self-implemented')\n",
    "plt.plot(fidelities1, label='sesolve')\n",
    "\n",
    "# Set the title and labels for the plot\n",
    "plt.title('Fidelity over time')\n",
    "plt.xlabel('Time step')\n",
    "plt.ylabel('Fidelity')\n",
    "\n",
    "# Add a legend\n",
    "plt.legend()\n",
    "\n",
    "plt.grid(True)\n",
    "# Show the plot\n",
    "plt.show()"
   ]
  },
  {
   "cell_type": "markdown",
   "metadata": {},
   "source": [
    "## simulate with higher N"
   ]
  },
  {
   "cell_type": "code",
   "execution_count": 18,
   "metadata": {},
   "outputs": [
    {
     "data": {
      "text/plain": [
       "Text(0.5, 1.0, 'optimized with N = 5, forward propogation with different N values')"
      ]
     },
     "execution_count": 18,
     "metadata": {},
     "output_type": "execute_result"
    },
    {
     "data": {
      "image/png": "[encoded data removed]",
      "text/plain": [
       "<Figure size 640x480 with 1 Axes>"
      ]
     },
     "metadata": {},
     "output_type": "display_data"
    }
   ],
   "source": [
    "import numpy as np\n",
    "import qutip as qt\n",
    "import matplotlib.pyplot as plt\n",
    "# increase truncation N here\n",
    "optimized_N = 5\n",
    "# alpha = 1.4142135623730951\n",
    "alpha = 0.5\n",
    "# f = 'ctrl_amps_final_coherent_to_cat_state_n_ts50_evo_time100_ptypeZERO_alpha0.5_N10_fid_err_targ0.0001_max_iter100000_max_wall_time10000.txt'\n",
    "# # f = f'ctrl_amps_final_coherent_to_cat_state_n_ts3000_ptypeZERO_alpha{alpha}_N{optimized_N}_fid_err_targ0.0001_max_iter100000_max_wall_time10000.txt'\n",
    "# data = np.genfromtxt(f, delimiter='\\t') \n",
    "\n",
    "# H_c amplitudes (from optimized pulse)\n",
    "amplitudes_c = result.final_amps[:, 0]\n",
    "amplitudes_T = result.final_amps[:, 1]\n",
    "\n",
    "# reset n_ts to a higher value\n",
    "tlist = np.linspace(0, evo_time, n_ts)\n",
    "\n",
    "fidelity_list = []\n",
    "N_upper_bound = 50\n",
    "for i in range(optimized_N, N_upper_bound):\n",
    "    ##### use higher N truncation value for states and operators ######\n",
    "    # set chi to 0, don't need this for testing state-to-state transfer\n",
    "    N = i\n",
    "    H_dt = tensor(qt.num(N), identity(2)) + tensor(identity(N), sigmaz())\n",
    "    H_c4 = [tensor(qt.destroy(N) + qt.create(N), identity(2)),\n",
    "        tensor(1j*(qt.destroy(N) - qt.create(N)), identity(2))]\n",
    "    #### set Hamiltonian ####\n",
    "    H_d = H_dt\n",
    "    H_c = H_c4\n",
    "\n",
    "    #### initial and target states ####\n",
    "    cavity_init_state = qt.coherent(N, alpha)\n",
    "    cavity_target_state = (qt.coherent(N, alpha) + qt.coherent(N, -alpha)).unit()\n",
    "    cavity_init_state_testing = qt.coherent(N, 0)\n",
    "    cavity_target_state_testing = qt.coherent(N, alpha)\n",
    "    qubit_state = Qobj([[1], [0]])\n",
    "    psi_0 = tensor(cavity_init_state_testing, qubit_state)\n",
    "    psi_targ = tensor(cavity_target_state_testing, qubit_state)\n",
    "\n",
    "    #### Simulate ####\n",
    "    H_array_form = qt.QobjEvo([H_d, [H_c[0], amplitudes_c], [H_c[1], amplitudes_T]], tlist=tlist)\n",
    "    res = qt.sesolve(H_array_form, psi_0, tlist)\n",
    "\n",
    "    final_fidelity = qt.metrics.fidelity(res.states[-1].unit(), psi_targ.unit())\n",
    "    fidelity_list.append(final_fidelity)\n",
    "\n",
    "plt.plot(range(optimized_N, 50), fidelity_list)\n",
    "plt.xlabel('Focak basis truncation value N')   \n",
    "plt.ylabel('Fidelity')\n",
    "plt.title(f'optimized with N = {optimized_N}, forward propogation with different N values')\n",
    "# plt.legend()\n",
    "\n",
    "# see fidelity at each time step\n",
    "# for i in range(0, n_ts):\n",
    "#     print(i, qt.metrics.fidelity(res.states[i].unit(), psi_targ.unit()))\n"
   ]
  },
  {
   "cell_type": "code",
   "execution_count": null,
   "metadata": {},
   "outputs": [],
   "source": []
  }
 ],
 "metadata": {
  "kernelspec": {
   "display_name": "myenv_fyp",
   "language": "python",
   "name": "python3"
  },
  "language_info": {
   "codemirror_mode": {
    "name": "ipython",
    "version": 3
   },
   "file_extension": ".py",
   "mimetype": "text/x-python",
   "name": "python",
   "nbconvert_exporter": "python",
   "pygments_lexer": "ipython3",
   "version": "3.12.0"
  }
 },
 "nbformat": 4,
 "nbformat_minor": 2
}
